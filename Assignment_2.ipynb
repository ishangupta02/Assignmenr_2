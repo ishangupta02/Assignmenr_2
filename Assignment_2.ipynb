{
 "cells": [
  {
   "cell_type": "markdown",
   "id": "21494971",
   "metadata": {},
   "source": [
    "# 1. What are the two values of the boolean data type? How do you write them?"
   ]
  },
  {
   "cell_type": "markdown",
   "id": "097462b1",
   "metadata": {},
   "source": [
    "Ans-  The two values of boolean datatype are True and False.\n",
    "      We can write them with the first letter capital and the others are           small.  example- True, False "
   ]
  },
  {
   "cell_type": "markdown",
   "id": "38692fa2",
   "metadata": {},
   "source": [
    "# 2. What are the three different types of boolean operators?"
   ]
  },
  {
   "cell_type": "markdown",
   "id": "05f194f5",
   "metadata": {},
   "source": [
    "Ans-  The three types of boolean operators are 'and', 'or', 'not'."
   ]
  },
  {
   "cell_type": "markdown",
   "id": "a4f8b4da",
   "metadata": {},
   "source": [
    "# 3. Make a list of each of boolean operators truth table (ie. every possible combination of boolean values for the operator and what it evaluates)"
   ]
  },
  {
   "cell_type": "code",
   "execution_count": null,
   "id": "bc9ed9ad",
   "metadata": {},
   "outputs": [],
   "source": [
    "A and B\n",
    "Then c\n",
    "\n",
    "A   B   C      # Ans- It shows if both of them is True than it executes                              \n",
    "                      otherwise it shows False.\n",
    "T   T   T\n",
    "T   F   F\n",
    "F   T   F\n",
    "F   F   F\n",
    "\n",
    "\n",
    "A or B         # Ans- It shows if one of them if True then it executes     \n",
    "Then C                otherwise it False.\n",
    "\n",
    "\n",
    "A   B   C\n",
    "\n",
    "T   T   T \n",
    "T   F   T \n",
    "F   T   T\n",
    "F   F   F\n",
    "\n",
    "A , B Then Not A    # Ans- It shows if A is not True then it executes                                otherwise it shows False.\n",
    "\n",
    "A   B   Not A\n",
    "F   F   T\n",
    "F   T   T\n",
    "T   F   F\n",
    "T   T   F\n"
   ]
  },
  {
   "cell_type": "markdown",
   "id": "e937a554",
   "metadata": {},
   "source": [
    "# 4. What are the values of the following operations?\n",
    "### 1. (5>4) and (3==5)\n",
    "### 2. not (5>4)\n",
    "### 3. (5>4) or (3==5)\n",
    "### 4. not(5>4) or (3==5)\n",
    "### 5. (True and True) and (True == False)\n",
    "### 6. (not False) or (not True)"
   ]
  },
  {
   "cell_type": "code",
   "execution_count": 37,
   "id": "14f1bb2c",
   "metadata": {},
   "outputs": [],
   "source": [
    "1.\n",
    "a =  5 > 4\n",
    "b =  3==5"
   ]
  },
  {
   "cell_type": "code",
   "execution_count": 38,
   "id": "8eeec33d",
   "metadata": {},
   "outputs": [
    {
     "data": {
      "text/plain": [
       "False"
      ]
     },
     "execution_count": 38,
     "metadata": {},
     "output_type": "execute_result"
    }
   ],
   "source": [
    "a and b"
   ]
  },
  {
   "cell_type": "code",
   "execution_count": 39,
   "id": "e8c9b8b4",
   "metadata": {},
   "outputs": [
    {
     "data": {
      "text/plain": [
       "False"
      ]
     },
     "execution_count": 39,
     "metadata": {},
     "output_type": "execute_result"
    }
   ],
   "source": [
    "2. \n",
    "not (5>4)"
   ]
  },
  {
   "cell_type": "code",
   "execution_count": 62,
   "id": "2b8a53aa",
   "metadata": {},
   "outputs": [],
   "source": [
    "3.\n",
    "c = 5>4\n",
    "d = 3==5"
   ]
  },
  {
   "cell_type": "code",
   "execution_count": 63,
   "id": "4c97ab38",
   "metadata": {},
   "outputs": [
    {
     "data": {
      "text/plain": [
       "True"
      ]
     },
     "execution_count": 63,
     "metadata": {},
     "output_type": "execute_result"
    }
   ],
   "source": [
    "c or d"
   ]
  },
  {
   "cell_type": "code",
   "execution_count": 64,
   "id": "9cb7c8ca",
   "metadata": {},
   "outputs": [],
   "source": [
    "4. \n",
    "e = not(5>4)\n",
    "f = (3==5)"
   ]
  },
  {
   "cell_type": "code",
   "execution_count": 65,
   "id": "ab716394",
   "metadata": {},
   "outputs": [
    {
     "data": {
      "text/plain": [
       "False"
      ]
     },
     "execution_count": 65,
     "metadata": {},
     "output_type": "execute_result"
    }
   ],
   "source": [
    "e or f"
   ]
  },
  {
   "cell_type": "code",
   "execution_count": 66,
   "id": "27ee9128",
   "metadata": {},
   "outputs": [],
   "source": [
    "5. \n",
    "g = (True or True)\n",
    "h = (True == False)"
   ]
  },
  {
   "cell_type": "code",
   "execution_count": 67,
   "id": "607ee423",
   "metadata": {},
   "outputs": [
    {
     "data": {
      "text/plain": [
       "False"
      ]
     },
     "execution_count": 67,
     "metadata": {},
     "output_type": "execute_result"
    }
   ],
   "source": [
    "g and h"
   ]
  },
  {
   "cell_type": "code",
   "execution_count": 68,
   "id": "a0dc27fe",
   "metadata": {},
   "outputs": [],
   "source": [
    "i = (not False)\n",
    "j = (not True)\n"
   ]
  },
  {
   "cell_type": "code",
   "execution_count": 69,
   "id": "712212cf",
   "metadata": {},
   "outputs": [
    {
     "data": {
      "text/plain": [
       "True"
      ]
     },
     "execution_count": 69,
     "metadata": {},
     "output_type": "execute_result"
    }
   ],
   "source": [
    "i or j"
   ]
  },
  {
   "cell_type": "code",
   "execution_count": null,
   "id": "8da00172",
   "metadata": {},
   "outputs": [],
   "source": []
  },
  {
   "cell_type": "markdown",
   "id": "a489f49a",
   "metadata": {},
   "source": [
    "# 5. What are the six comparision operators?"
   ]
  },
  {
   "cell_type": "markdown",
   "id": "c790aa27",
   "metadata": {},
   "source": [
    "Less than \"<\"\n",
    "\n",
    "Greater than \">\"\n",
    "\n",
    "Less than or equal to \" <=\"\n",
    "\n",
    "Greater than or equal to \">=\"\n",
    "\n",
    "Equal to \"=\"\n",
    "\n",
    "Not equal to \" != \""
   ]
  },
  {
   "cell_type": "markdown",
   "id": "a782924f",
   "metadata": {},
   "source": [
    "# 6. How do you tell the difference between the equal to and assignment operators? Describe a condition and when you would use one.\n"
   ]
  },
  {
   "cell_type": "markdown",
   "id": "58f5ee4b",
   "metadata": {},
   "source": [
    "The “=” is an assignment operator is used to assign the value on the right to the variable on the left. The '==' operator checks whether the two given operands are equal or not. If so, it returns true.\n",
    "\n",
    "\n"
   ]
  },
  {
   "cell_type": "markdown",
   "id": "fa423a21",
   "metadata": {},
   "source": [
    "a = 5    #here = is used to assign the value of a.\n",
    "\n",
    "b == 8   #here == is used to describe that both the value are equal."
   ]
  },
  {
   "cell_type": "code",
   "execution_count": 2,
   "id": "90015a60",
   "metadata": {},
   "outputs": [],
   "source": [
    "#For example\n",
    "a = 5"
   ]
  },
  {
   "cell_type": "code",
   "execution_count": 3,
   "id": "8c4999f4",
   "metadata": {},
   "outputs": [
    {
     "data": {
      "text/plain": [
       "5"
      ]
     },
     "execution_count": 3,
     "metadata": {},
     "output_type": "execute_result"
    }
   ],
   "source": [
    "a    #here a is value assigned to 5"
   ]
  },
  {
   "cell_type": "code",
   "execution_count": 4,
   "id": "4ecafff0",
   "metadata": {},
   "outputs": [
    {
     "data": {
      "text/plain": [
       "True"
      ]
     },
     "execution_count": 4,
     "metadata": {},
     "output_type": "execute_result"
    }
   ],
   "source": [
    "7 == 7  #here is shows that both are equal and gave back True."
   ]
  },
  {
   "cell_type": "markdown",
   "id": "41578a5d",
   "metadata": {},
   "source": [
    "# 7. Identify the three blocks in this code:"
   ]
  },
  {
   "cell_type": "code",
   "execution_count": null,
   "id": "6d72f1cb",
   "metadata": {},
   "outputs": [],
   "source": [
    "spam = 0\n",
    "if spam == 10:\n",
    "print('eggs')\n",
    "if spam > 5:\n",
    "print('bacon')\n",
    "else:\n",
    "print('ham')\n",
    "print('spam')\n",
    "print('spam')\n"
   ]
  },
  {
   "cell_type": "markdown",
   "id": "d6b67f45",
   "metadata": {},
   "source": [
    "Ans- Here we use if Then Else statement. And 1st block is if, 2nd block is if and 3rd block is else.\n",
    "\n",
    "1.if value of spam is equal to 10 it print eggs.\n",
    "\n",
    "2.if value of spam is greater than 5, it print bacon.\n",
    "\n",
    "3.if the value of spam is less than 5, it print ham, spam, spam."
   ]
  },
  {
   "cell_type": "markdown",
   "id": "2ed80f65",
   "metadata": {},
   "source": [
    "# 8. Write a code that prints Hello if 1 is stored in spam, prints Howdy if 2 is stored in spam and prints Greetings! if anything else is stored in spam."
   ]
  },
  {
   "cell_type": "code",
   "execution_count": 19,
   "id": "59d9cc11",
   "metadata": {},
   "outputs": [
    {
     "name": "stdout",
     "output_type": "stream",
     "text": [
      "Enter a Number:  1\n",
      "Hello\n",
      "Greetings!\n"
     ]
    }
   ],
   "source": [
    "spam = int(input(\"Enter a Number:  \"))\n",
    "\n",
    "if spam == 1:\n",
    "     print(\"Hello\")\n",
    "if spam == 2:\n",
    "     print(\"Howdy\")\n",
    "else:\n",
    "     print(\"Greetings!\" )"
   ]
  },
  {
   "cell_type": "code",
   "execution_count": 20,
   "id": "85fb266d",
   "metadata": {},
   "outputs": [
    {
     "name": "stdout",
     "output_type": "stream",
     "text": [
      "Enter a Number:  2\n",
      "Howdy\n"
     ]
    }
   ],
   "source": [
    "spam = int(input(\"Enter a Number:  \"))\n",
    "\n",
    "if spam == 1:\n",
    "     print(\"Hello\")\n",
    "if spam == 2:\n",
    "     print(\"Howdy\")\n",
    "else:\n",
    "     print(\"Greetings!\" )"
   ]
  },
  {
   "cell_type": "code",
   "execution_count": 21,
   "id": "fb1eb895",
   "metadata": {},
   "outputs": [
    {
     "name": "stdout",
     "output_type": "stream",
     "text": [
      "Enter a Number:  56\n",
      "Greetings!\n"
     ]
    }
   ],
   "source": [
    "spam = int(input(\"Enter a Number:  \"))\n",
    "\n",
    "if spam == 1:\n",
    "     print(\"Hello\")\n",
    "if spam == 2:\n",
    "     print(\"Howdy\")\n",
    "else:\n",
    "     print(\"Greetings!\" )"
   ]
  },
  {
   "cell_type": "markdown",
   "id": "9e3cfd1f",
   "metadata": {},
   "source": [
    "# 9. If your program is stuck in an endless loop, what keys you will press?"
   ]
  },
  {
   "cell_type": "markdown",
   "id": "3823103e",
   "metadata": {},
   "source": [
    "Ans- We can use break statement to come out of an infinte loop. and we can press \"CTRL + C\" to stop."
   ]
  },
  {
   "cell_type": "markdown",
   "id": "b281d3dd",
   "metadata": {},
   "source": [
    "# 10. How can you tell the difference between break and continue?"
   ]
  },
  {
   "cell_type": "markdown",
   "id": "de6eafe1",
   "metadata": {},
   "source": [
    "Break- It exits from the loop.\n",
    "Continue- It remains within the loop.\n",
    "\n",
    "Break- It is used to stop the ececution  at specific condition.\n",
    "Continue- It is used to skip particular iteration of the loop."
   ]
  },
  {
   "cell_type": "markdown",
   "id": "26700f6d",
   "metadata": {},
   "source": [
    "# 11. In a for loop, what is the difference between range(10), range(0,10) and range(0,10,1) ?"
   ]
  },
  {
   "cell_type": "markdown",
   "id": "84d7090f",
   "metadata": {},
   "source": [
    "range(10)  it gives the output of first ten elements and then stops.\n",
    "\n",
    "range(0,10) it starts from \"zero\" element and go till \"ninth\" element and do not give the tenth element. Here range is 0 to 9th and 10 is neglected.\n",
    "\n",
    "range(0,10,1) it starts from zero element, go till 9th element and take a jump of 1.  Here 1 shows the jump."
   ]
  },
  {
   "cell_type": "markdown",
   "id": "920982e9",
   "metadata": {},
   "source": [
    "# 12. write a short program that prints the numbers 1 to 10 using a for loop. Then write an equivalent program that prints the numbers 1 to 10 using a while loop."
   ]
  },
  {
   "cell_type": "code",
   "execution_count": 2,
   "id": "91ba3a86",
   "metadata": {},
   "outputs": [
    {
     "name": "stdout",
     "output_type": "stream",
     "text": [
      "1\n",
      "2\n",
      "3\n",
      "4\n",
      "5\n",
      "6\n",
      "7\n",
      "8\n",
      "9\n"
     ]
    }
   ],
   "source": [
    "for i in range(1,10):\n",
    "    print(i)"
   ]
  },
  {
   "cell_type": "code",
   "execution_count": 3,
   "id": "619fc14e",
   "metadata": {},
   "outputs": [
    {
     "name": "stdout",
     "output_type": "stream",
     "text": [
      "1\n",
      "2\n",
      "3\n",
      "4\n",
      "5\n",
      "6\n",
      "7\n",
      "8\n",
      "9\n",
      "10\n"
     ]
    }
   ],
   "source": [
    "total = 11\n",
    "i = 1\n",
    "while i<11:\n",
    "    print(i)\n",
    "    i = i+1"
   ]
  },
  {
   "cell_type": "markdown",
   "id": "0434db28",
   "metadata": {},
   "source": [
    "# 13. If you had a function named bacon{} inside a module named spam, how would you call it after importing spam?"
   ]
  },
  {
   "cell_type": "code",
   "execution_count": 8,
   "id": "ace5854d",
   "metadata": {},
   "outputs": [],
   "source": [
    "def foo():\n",
    "    print('Hi')"
   ]
  },
  {
   "cell_type": "code",
   "execution_count": 9,
   "id": "d8d44faa",
   "metadata": {
    "scrolled": true
   },
   "outputs": [
    {
     "ename": "ModuleNotFoundError",
     "evalue": "No module named 'a'",
     "output_type": "error",
     "traceback": [
      "\u001b[1;31m---------------------------------------------------------------------------\u001b[0m",
      "\u001b[1;31mModuleNotFoundError\u001b[0m                       Traceback (most recent call last)",
      "Input \u001b[1;32mIn [9]\u001b[0m, in \u001b[0;36m<cell line: 1>\u001b[1;34m()\u001b[0m\n\u001b[1;32m----> 1\u001b[0m \u001b[38;5;28;01mimport\u001b[39;00m \u001b[38;5;21;01ma\u001b[39;00m\n\u001b[0;32m      3\u001b[0m a\u001b[38;5;241m.\u001b[39mfoo()\n",
      "\u001b[1;31mModuleNotFoundError\u001b[0m: No module named 'a'"
     ]
    }
   ],
   "source": [
    "import a\n",
    "\n",
    "a.foo()  # prints \"Hi\""
   ]
  },
  {
   "cell_type": "code",
   "execution_count": null,
   "id": "4c74cd6e",
   "metadata": {},
   "outputs": [],
   "source": []
  }
 ],
 "metadata": {
  "kernelspec": {
   "display_name": "Python 3 (ipykernel)",
   "language": "python",
   "name": "python3"
  },
  "language_info": {
   "codemirror_mode": {
    "name": "ipython",
    "version": 3
   },
   "file_extension": ".py",
   "mimetype": "text/x-python",
   "name": "python",
   "nbconvert_exporter": "python",
   "pygments_lexer": "ipython3",
   "version": "3.9.12"
  }
 },
 "nbformat": 4,
 "nbformat_minor": 5
}
